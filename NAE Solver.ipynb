{
 "cells": [
  {
   "cell_type": "markdown",
   "id": "d3f071b7-ef0e-4676-9aeb-583a811b186d",
   "metadata": {},
   "source": [
    "# Non-linear algebraic equations (NAE) solver\n",
    "\n",
    "This is an example code for solving systems of non-linear equations with Python in Jupyter Notebooks."
   ]
  },
  {
   "cell_type": "code",
   "execution_count": null,
   "id": "2f416260-03f5-4aa5-a934-d75eb2dba4f6",
   "metadata": {},
   "outputs": [],
   "source": [
    "########## Non-linear system of equations solver ##########\n",
    "\n",
    "###### Import packages\n",
    "\n",
    "import numpy as np\n",
    "import pandas as pd\n",
    "import scipy.optimize as opt\n",
    "\n",
    "###### Specify known values\n",
    "\n",
    "### Constants\n",
    "Kc  = 0.2      # mol / L\n",
    "yA_0 = 1.0     # mol / mol\n",
    "P   = 10.0      # atm\n",
    "R   = 0.082    # atm L / mol K\n",
    "T   = 340      # K\n",
    "\n",
    "###### Define system of equations\n",
    "\n",
    "def alg(U):\n",
    "    \n",
    "    ### Redefine inputs\n",
    "    CA0 = U[0]\n",
    "    Xe = U[1]\n",
    "    \n",
    "    ### Define equations\n",
    "    setzero = np.zeros(len(U))\n",
    "    setzero[0] = CA0-yA_0*P/R/T\n",
    "    setzero[1] = Xe - (Kc*(1-Xe)/(4*CA0))**0.5\n",
    "    \n",
    "    ### Reorganize list to fit required dimensions \n",
    "    setzero = np.array(setzero).tolist()\n",
    "    \n",
    "    return setzero\n",
    "\n",
    "###### Solve based on initial guesses\n",
    "\n",
    "### Initial guesses\n",
    "varguess = [0.5,0.5]\n",
    "\n",
    "### Solver\n",
    "U = opt.fsolve(alg,varguess)   # Enter function vollowed by variable guesses\n",
    "U = np.array(U)                # Convert to numpy array for convenience\n",
    "\n",
    "### Verify that solution was achieved\n",
    "zerocheck = alg(U)\n",
    "print(\"Zerocheck: \",zerocheck)\n",
    "\n",
    "### Save results in dataframe\n",
    "soln = pd.DataFrame(['Var 1','Var 2'],columns = ['Variables'])\n",
    "soln[['Values']] = pd.DataFrame(U)\n",
    "soln"
   ]
  }
 ],
 "metadata": {
  "kernelspec": {
   "display_name": "Python 3 (ipykernel)",
   "language": "python",
   "name": "python3"
  },
  "language_info": {
   "codemirror_mode": {
    "name": "ipython",
    "version": 3
   },
   "file_extension": ".py",
   "mimetype": "text/x-python",
   "name": "python",
   "nbconvert_exporter": "python",
   "pygments_lexer": "ipython3",
   "version": "3.9.12"
  }
 },
 "nbformat": 4,
 "nbformat_minor": 5
}
