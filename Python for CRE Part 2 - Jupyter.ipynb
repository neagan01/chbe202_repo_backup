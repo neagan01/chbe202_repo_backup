{
 "cells": [
  {
   "cell_type": "markdown",
   "id": "5fe7d512-9fe3-417b-a624-514b43f697cf",
   "metadata": {},
   "source": [
    "# Python for Chemical Reaction Engineering Part 2 - Jupyter"
   ]
  },
  {
   "cell_type": "markdown",
   "id": "b6a31464-42a4-4493-8df7-2c0edb774e37",
   "metadata": {},
   "source": [
    "As noted in Part 1, there are many wais to work with Python code. Jupyter is the preferred method in ChBE 202."
   ]
  },
  {
   "cell_type": "markdown",
   "id": "fe569ec5-c4c3-4037-bb3f-c0443cce80b1",
   "metadata": {},
   "source": [
    "## Project Jupyter\n",
    "\n",
    "Sounds cool, right? The \"Ju\" references the \"Julia\" coding language, the \"Py\" references \"Python\" (which itself is a references to \"Monty Python\"), and \"Ter\" is a reference to \"R\" while also spelling out a cool word which is a reference to Galileo and his discovery of the Moons of Jupiter as detailed in his own (less-sophisticated) notebooks. https://jupyter.org/ \n",
    "\n",
    "We will use Jupyter to write Python codes, but (as the name suggests) you can write with a variety of languages such as Julia, which is faster than Python and better with handling memory, making it a better candidate for working with large data sets such as in  machine learning applications.\n",
    "\n",
    "## Literate programming\n",
    "\n",
    "A Jupyter Notebook is a live document which brings together code annotation cells in the \"Markdown\" format (how this was written), code cells, and code cell outputs all in one place. This type of programming is often called \"literate\" programming because it is easier to read. Compared to a collection of simple executable .py files, this form makes it easier to understand what everything in a code is, why it is, and what it does. This facilitates sharing of codes and ideas especially among those like me who use coding simply as one of many tools for their work (rather than a data scientist). Data scientists may find interpreting a code trivial and would never have the time to annotate tens of thousands of lines of code to our hundreds.\n",
    "\n",
    "## Jupyter Notebook\n",
    "\n",
    "A Jupyter Notebook itself can be opened and run using the \"Jupyter Notebook\" app on your computer. When you go, it will open a window in your default browser in a default directory (unless you change it). Then you can open up a notebook from the file explorer.\n",
    "\n",
    "![im2](images/jupyter_notebook_open.gif)\n",
    "\n",
    "## Jupyter Notebook extensions\n",
    "\n",
    "When transitioning to a \"non-literate\" language, some \"debugging\" tools can be lost. Jupyter Notebook is currently missing a few ideal features that can be found with nb_extensions. Once downloaded, you can add some tweaks to your code. When I work I use the following:\n",
    "\n",
    "- Codefolding\n",
    "- Live Markdown Preview\n",
    "- Variable Inspector\n",
    "- Toggle all line numbers\n",
    "\n",
    "Most of these are fairly self-explanatory. At a later date I'll actually explain what they are. But I have a paper to submit. For now, you can get started by going to https://jupyter-contrib-nbextensions.readthedocs.io/en/latest/install.html \n",
    "\n",
    "Note that these features may have been built for an older version of Jupyter Notebooks than yours. So far I've been fine.\n",
    "\n",
    "## JupyterLab\n",
    "\n",
    "This new Jupyter IDE provides a file browser, multiple tabs, and the ability to open a few different file types other than notebooks, inlcuding text files, markdown, and Python codes. You can also open a terminal. In the terminal you can then run Python files by starting with the \"python\" command.\n",
    "\n",
    "Here is how it looks when I use JupyterLab:\n",
    "\n",
    "![im3](images/\\jupyter_lab_screenshot.png)\n",
    "\n",
    "On the left I see some folders and files I can access as well as a \"+\" sign at the top left which I can use to create new files.\n",
    "\n",
    "Many of the extensions I had to add to Jupyter Notebooks with nbextensions are embedded into JupyterLab and can be selected in Settings under \"Advanced Settings Editor.\" Putting in places to collapse code is still a bit tricky, however. As of now, only full cells can be collapsed. In Markdown cells, on the other hand, headers (lines starting with one or more #) can be easily collapsed. Not that it's very helpful in this case."
   ]
  },
  {
   "cell_type": "markdown",
   "id": "8ed19121-53cb-41c4-bfcc-6da8e2c74ff0",
   "metadata": {},
   "source": [
    "## Cell types\n",
    "\n",
    "There are three types of cells (as of now) that you can write in with Jupyter Notebooks (and JupyterLab): raw, markdown, and code. You can select what type of cell this is with the dropdown at the top of the page. This can be changed at any time and affects only the cell you are in.## Cell types\n",
    "\n",
    "There are three types of cells (as of now) that you can write in: raw, markdown, and code. You can select what type of cell this is with the dropdown at the top of the page. This can be changed at any time and affects only the cell you are in."
   ]
  },
  {
   "cell_type": "raw",
   "id": "39428f00-7d07-442b-84bf-d9a4a454f907",
   "metadata": {},
   "source": [
    "## Raw cells\n",
    "\n",
    "These cells will appear exactly as you write them. No formatting changes, no code execution, nothing. They are what they are and nothing more."
   ]
  },
  {
   "cell_type": "markdown",
   "id": "d5b2652f-283f-4687-b546-67f8f34aee97",
   "metadata": {},
   "source": [
    "## Markdown cells\n",
    "\n",
    "This is a markdown cell. It is meant for writing and uses MyST syntax which is similar to LaTeX. A general guide to the syntax can be found here: https://jupyterbook.org/en/stable/reference/cheatsheet.html. \n",
    "\n",
    "When you are \"in\" the cell, it looks like raw text. When you evaluate the cell with the arrow button or with shift-enter, the formatting is generated. It is also possible with Jupyter Notebooks (through nbextensions) to show a live preview of the cell, and it is also possible to do so with JupyterLab by right clicking on the tab for your specific notebook, selecting \"New View for Notebook\", and moving it to the side.\n",
    "\n",
    "You can also embed an image, gif, video, etc. easily either form internet sources or from a specified folder. Below is a gif showing how to do set up a new Notebook view.\n",
    "\n",
    "![im3](images/jupyterlab_new_view.gif)\n",
    "\n",
    "Below are some simple examples of what can be done with Markdown formatting. The aforementioned documentation and Google are your best friends to otherwise figure out how to format better.\n",
    "\n",
    "Words can easily be made *italicized*, **bold**, or ***both***.\n",
    "\n",
    "Different headers can be made by starting a line with different numbers of #. One # is a primary header, ## is secondary, etc.\n",
    "\n",
    "You can write math expressions like this: $math=numbers + fun$\n",
    "\n",
    "You can put it on a separate line like this: $$math = numbers + fun$$\n"
   ]
  },
  {
   "cell_type": "code",
   "execution_count": 8,
   "id": "c3d1c21c-eda5-483b-a59c-8806d8cd2ada",
   "metadata": {},
   "outputs": [
    {
     "name": "stdout",
     "output_type": "stream",
     "text": [
      "7\n"
     ]
    },
    {
     "data": {
      "text/plain": [
       "'\\nThis is commented out\\n'"
      ]
     },
     "execution_count": 8,
     "metadata": {},
     "output_type": "execute_result"
    }
   ],
   "source": [
    "###### Code cells\n",
    "\n",
    "# This is used to write code. Text like this can be written with a # comment. More than one # can be\n",
    "# added if you wish to visibly separate parts of the code, but it will not do anything.\n",
    "\n",
    "# Math can be done like this:\n",
    "\n",
    "thing1 = 3 + 4\n",
    "print(thing1)\n",
    "\n",
    "# To run the cell you can first enter it and the either click the run button or press shift-enter.\n",
    "# Alternatively you can press a button that runs all cells or one that restarts the kernel (dump\n",
    "# all stored information) and run all.\n",
    "\n",
    "# Note the little number to the top left of the cell. This is a counter for cell executions. If \n",
    "# you run this again, the number will increase. If you then run a different cell and run this one\n",
    "# again, the number will increase by 2--it only updates when it has been run. The highest number\n",
    "# therefore indicates the cell run most recently\n",
    "\n",
    "# Multiple lines can be commented out like this:\n",
    "'''\n",
    "This is commented out\n",
    "'''\n",
    "# If nothing comes after the comment out, the lines will be displayed in the output"
   ]
  },
  {
   "cell_type": "markdown",
   "id": "e509af65-24fa-489a-adb0-f8ab8e9f4105",
   "metadata": {},
   "source": [
    "## Exporting to PDF\n",
    "\n",
    "Neat PDF files can be generated from these books using the \"pandoc\" package and a TeX/LaTeX environment such as TeX live for Linux, MacTex for Mac, and MikTex for Microsoft The former is installed through Anaconda, the last is just online. Make sure you update your TeX environment afterward. **To generate a PDF** in JupyterLab just go to \"File/Save and export notebook as...PDF.\" In Jupyter Notebook, instead go to \"File/Download as/PDF via LaTeX.\" A LaTeX-esque PDF will then be generated. **It my fail with certain embedded content** such as gifs.\n",
    "\n",
    "Another option is to export as HTML and then to print the HTML to a PDF. It doesn't look as nice, but it gets the job done."
   ]
  },
  {
   "cell_type": "markdown",
   "id": "846a2bee-c9e1-4066-86fd-cf5eab929aa2",
   "metadata": {},
   "source": [
    "## Communication between cells\n",
    "\n",
    "When a cell has been evaluated, variable values are stored and can be access in other cells. These values are stored in the **kernel** of the notebook. You can remove all stored values by **resetting the kernel**, an option in the toolbar at the top. You can also press the button to reset the kernel and evaluate all cells, which may or may not be a good idea.\n",
    "\n",
    "The same follows for package importing. If you import a package in the fifth cell and then run the first cell, it will know that the package is available. It can be tricky to keep track of this, however, so sometimes it is better to import packages within cells. Sometimes, however, it is better for clarity to have an \"import\" cell at the top of the notebook which you evaluate to import values.\n",
    "\n",
    "For example, reset the kernel. Then evaluate \"Cell A\" below. This will throw an error because \"x\" has not been defined. Then evaluate \"Cell B\" and evaluate \"Cell A\" again. Now it correctly prints the value"
   ]
  },
  {
   "cell_type": "code",
   "execution_count": 4,
   "id": "79b90f47-bae9-4532-a9dc-3e5502eef8a6",
   "metadata": {},
   "outputs": [
    {
     "name": "stdout",
     "output_type": "stream",
     "text": [
      "4\n"
     ]
    }
   ],
   "source": [
    "###### Cell A\n",
    "\n",
    "print(x)"
   ]
  },
  {
   "cell_type": "code",
   "execution_count": 5,
   "id": "0a3ba45e-5486-4b97-b4e9-64500de8a359",
   "metadata": {},
   "outputs": [],
   "source": [
    "###### Cell B\n",
    "\n",
    "x = 4"
   ]
  },
  {
   "cell_type": "markdown",
   "id": "e2e98ae8-50b4-42b4-8998-2bfdc844e9df",
   "metadata": {},
   "source": [
    "## Deleting cells\n",
    "\n",
    "Deleting cells is easy. click to the left of the cell to 'select' it, then type 'dd' but be careful. Even though this can be undone with Ctrl-z, it may be done be accident and missed."
   ]
  },
  {
   "cell_type": "code",
   "execution_count": null,
   "id": "fc1b4486-d62c-4ba2-9cf7-265683a57f16",
   "metadata": {},
   "outputs": [],
   "source": []
  }
 ],
 "metadata": {
  "kernelspec": {
   "display_name": "Python 3 (ipykernel)",
   "language": "python",
   "name": "python3"
  },
  "language_info": {
   "codemirror_mode": {
    "name": "ipython",
    "version": 3
   },
   "file_extension": ".py",
   "mimetype": "text/x-python",
   "name": "python",
   "nbconvert_exporter": "python",
   "pygments_lexer": "ipython3",
   "version": "3.9.12"
  }
 },
 "nbformat": 4,
 "nbformat_minor": 5
}
