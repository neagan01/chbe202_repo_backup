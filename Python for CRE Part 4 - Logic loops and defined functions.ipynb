{
 "cells": [
  {
   "cell_type": "markdown",
   "id": "6e0ed9b6-43f3-4bf9-9b66-db79ef4b4772",
   "metadata": {},
   "source": [
    "# Python for Chemical Reaction Engineering Part 4 - Logic, loops, and defined functions"
   ]
  },
  {
   "cell_type": "markdown",
   "id": "db279b75-d3e9-4574-8582-95dd5fda691d",
   "metadata": {},
   "source": [
    "Now we will talk about some key operations you will run across"
   ]
  },
  {
   "cell_type": "markdown",
   "id": "b7548e15-1c5e-4b11-997f-fbe1a913c5fb",
   "metadata": {},
   "source": [
    "## Logic: If statements\n",
    "\n",
    "Oftentimes you want to make something happen *conditionally.*\n",
    "\n",
    "For example: say we want to eat at most 3 cookies for dinner. If you have had less than 3, you can have another. You can use an if/then statement to tell you what to do depending on how many cookies you have had:\n",
    "\n",
    "    max_cookies = 3\n",
    "    had_cookies = 1\n",
    "\n",
    "    if had_cookies < max_cookies:\n",
    "        print('You can have another cookie.')\n",
    "    elif had_cookies == max_cookies:\n",
    "        print('You have had the perfect amount of cookies; you should not have another.')    \n",
    "    elif had_cookies > max_cookies:\n",
    "        print('You have had too many cookies; you should have checked sooner!')\n",
    "    if had_cookies > 0:\n",
    "        print('Also it is great that you have any cookies; I do not right now and am jealous.')   \n",
    "\n",
    "There are a few things to point out here. First, this all starts with 'if'. Then a logic statament is written and ends with a colon :. The next line is indented, which is *very* important. Anything indented *immediately* followed the if statement will occur *if* the condition is met.\n",
    "\n",
    "Next note what happens if the condition is not met. We use 'elif' to say **el**se **if** and then provide another statment. These can be chained together multiple times.\n",
    "\n",
    "Next note that all of the simple 'if' statements are checked. Multiple will be executed if multiple are met.\n",
    "\n",
    "Play around below with the number of 'max' and 'had' cookies to see what happens in the output."
   ]
  },
  {
   "cell_type": "code",
   "execution_count": 11,
   "id": "00e419fa-2132-46ff-8dea-4344a01813a0",
   "metadata": {},
   "outputs": [
    {
     "name": "stdout",
     "output_type": "stream",
     "text": [
      "You can have another cookie.\n",
      "Also it is great that you have any cookies; I do not right now and am jealous.\n"
     ]
    }
   ],
   "source": [
    "max_cookies = 3\n",
    "had_cookies = 1\n",
    "\n",
    "if had_cookies < max_cookies:\n",
    "    print('You can have another cookie.')\n",
    "elif had_cookies == max_cookies:\n",
    "    print('You have had the perfect amount of cookies; you should not have another.')    \n",
    "elif had_cookies > max_cookies:\n",
    "    print('You have had too many cookies; you should have checked sooner!')\n",
    "if had_cookies > 0:\n",
    "    print('Also it is great that you have any cookies; I do not right now and am jealous.')"
   ]
  },
  {
   "cell_type": "markdown",
   "id": "46e2be7d-d82c-458e-99c0-ec749e90e4c9",
   "metadata": {},
   "source": [
    "## Loops\n",
    "\n",
    "Oftentimes it is useful to perform the same operation repeatedly. We can do this with **loops**, most notably the **'for' loop** and the **'while' loop**.\n",
    "\n",
    "### For loops\n",
    "\n",
    "'For' loops use a list as an input and then iterate through the list. At each entry, a list of commands is executed. For example:\n",
    "    \n",
    "    x = [1,3,4,12]\n",
    "    for i in x:\n",
    "        print(i)\n",
    "  "
   ]
  },
  {
   "cell_type": "code",
   "execution_count": 30,
   "id": "3941381c-ddca-457d-acfc-2f983e477f63",
   "metadata": {},
   "outputs": [
    {
     "name": "stdout",
     "output_type": "stream",
     "text": [
      "1\n",
      "3\n",
      "4\n",
      "12\n"
     ]
    }
   ],
   "source": [
    "x = [1,3,4,12]\n",
    "for i in x:\n",
    "    print(i)"
   ]
  },
  {
   "cell_type": "markdown",
   "id": "b53b4cd7-c658-43d4-a521-c2a4e90d6868",
   "metadata": {},
   "source": [
    "Sometimes we want not just the **value** of the iteration, but also the **count**. We can pull both out simultaneously with the **enumerate()** function. For example:\n",
    "\n",
    "    for count, value in enumerate(x):\n",
    "        print('\\nIndex',index)\n",
    "        print('Value',value)"
   ]
  },
  {
   "cell_type": "code",
   "execution_count": 24,
   "id": "22530804-c09e-43a3-9ad8-f028bc93d4fe",
   "metadata": {},
   "outputs": [
    {
     "name": "stdout",
     "output_type": "stream",
     "text": [
      "\n",
      "Index 0\n",
      "Value 1\n",
      "\n",
      "Index 1\n",
      "Value 3\n",
      "\n",
      "Index 2\n",
      "Value 4\n",
      "\n",
      "Index 3\n",
      "Value 12\n"
     ]
    }
   ],
   "source": [
    "for index, value in enumerate(x):\n",
    "    print('\\nIndex',index)\n",
    "    print('Value',value)"
   ]
  },
  {
   "cell_type": "markdown",
   "id": "d63b97fb-4a82-4696-b5a5-647f0dff80fa",
   "metadata": {},
   "source": [
    "Combining this with 'if' statements allows you to do things like find all entries in a list that meet a certain criterion, and make a new list containing only these entries.\n",
    "\n",
    "    species = ['methane','ethane','ethene','CO','butane']    \n",
    "    alkanes = []\n",
    "\n",
    "    for x in species:\n",
    "        if 'ane' in x:\n",
    "              alkanes.append(x)\n",
    "\n",
    "    print(alkanes)"
   ]
  },
  {
   "cell_type": "code",
   "execution_count": 32,
   "id": "bf9d6625-d11c-4f36-af34-cef9d30d4e81",
   "metadata": {},
   "outputs": [
    {
     "name": "stdout",
     "output_type": "stream",
     "text": [
      "['methane', 'ethane', 'butane']\n"
     ]
    }
   ],
   "source": [
    "species = ['methane','ethane','ethene','CO','butane']    \n",
    "alkanes = []\n",
    "\n",
    "for x in species:\n",
    "    if 'ane' in x:\n",
    "          alkanes.append(x)\n",
    "\n",
    "print(alkanes)"
   ]
  },
  {
   "cell_type": "markdown",
   "id": "911c5176-a54e-4ad7-ae3c-752f87ef4c03",
   "metadata": {},
   "source": [
    "### List comprehension\n",
    "\n",
    "A compact way of working with 'for' loops is list comprehension. Four of the lines in the last example can be collapsed into one as follows:\n",
    "\n",
    "    species = ['methane','ethane','ethene','CO','butane']  \n",
    "    alkanes = [x for x in species if 'ane' in x]\n",
    "    print(alkanes)"
   ]
  },
  {
   "cell_type": "code",
   "execution_count": 33,
   "id": "51a2a075-343b-41b6-b2d1-61829a2dc235",
   "metadata": {},
   "outputs": [
    {
     "name": "stdout",
     "output_type": "stream",
     "text": [
      "['methane', 'ethane', 'butane']\n"
     ]
    }
   ],
   "source": [
    "species = ['methane','ethane','ethene','CO','butane']  \n",
    "alkanes = [x for x in species if 'ane' in x]\n",
    "print(alkanes)"
   ]
  },
  {
   "cell_type": "markdown",
   "id": "cce9f629-25fc-457e-808b-a3b1fc50cf17",
   "metadata": {},
   "source": [
    "### While loops\n",
    "\n",
    "A 'while' loop is like a 'for' loop but removes the requirement of incrementing through a list. Instead you pick a criterion to satisfy and continue repeating the loop until that happens. It is therefore **possible that a while loop never ends**.\n",
    "\n",
    "In the simplest case, it looks like a 'for' loop and tells you to increase the index a list by 1 until you get to the end of the list. For example:\n",
    "\n",
    "    x = [1,3,4,12]\n",
    "    index = 0\n",
    "\n",
    "    while index < len(x):\n",
    "        print(x[index])\n",
    "        index = index + 1"
   ]
  },
  {
   "cell_type": "code",
   "execution_count": 53,
   "id": "f8085dc8-df4a-455e-bebc-6ac9917e2c06",
   "metadata": {},
   "outputs": [
    {
     "name": "stdout",
     "output_type": "stream",
     "text": [
      "1\n",
      "3\n",
      "4\n",
      "12\n"
     ]
    }
   ],
   "source": [
    "x = [1,3,4,12]\n",
    "index = 0\n",
    "\n",
    "while index < len(x):\n",
    "    print(x[index])\n",
    "    index = index + 1"
   ]
  },
  {
   "cell_type": "markdown",
   "id": "9936c183-ad2a-4ccc-96e9-68e87e9e0242",
   "metadata": {},
   "source": [
    "Consider another example relevant to this course. Perhaps you want to run a reaction and stop it as soon as the concentration of the product reaches a certain level. We have not yet discussed everything that goes into the following, but we will. We will also have more more computationally efficient codes than the one below, but it is easier to see what is happening in the one below."
   ]
  },
  {
   "cell_type": "code",
   "execution_count": 54,
   "id": "9ad073e9-a689-4d1d-ae24-44dd6b41d7f7",
   "metadata": {},
   "outputs": [
    {
     "data": {
      "image/png": "[encoded data removed]",
      "text/plain": [
       "<Figure size 432x288 with 1 Axes>"
      ]
     },
     "metadata": {
      "needs_background": "light"
     },
     "output_type": "display_data"
    }
   ],
   "source": [
    "import matplotlib.pyplot as plt\n",
    "\n",
    "# Reaction: A -> D with r = k * C_A\n",
    "k = 1 # 1 / hr\n",
    "\n",
    "C_A = [1]\n",
    "C_D = [0]\n",
    "t = [0]\n",
    "\n",
    "t_step = 0.1\n",
    "\n",
    "def diff(t,U): \n",
    "    C_A = U[0]\n",
    "    C_D = U[1]    \n",
    "    dU=np.zeros(len(U))    \n",
    "    dU[0] = -k*C_A\n",
    "    dU[1] = k*C_A\n",
    "\n",
    "while max(C_D) < 0.8:   \n",
    "    C_A.append(C_A[-1]-k*C_A[-1]*t_step)\n",
    "    C_D.append(C_D[-1]+k*C_A[-1]*t_step)\n",
    "    t.append(t[-1]+t_step)\n",
    "\n",
    "plt.plot(t,C_A)\n",
    "plt.plot(t,C_D)\n",
    "plt.legend(['C_A','C_D'])\n",
    "plt.show()"
   ]
  },
  {
   "cell_type": "code",
   "execution_count": null,
   "id": "1998c619-9efc-453a-8119-7e46ed66fb12",
   "metadata": {},
   "outputs": [],
   "source": []
  },
  {
   "cell_type": "code",
   "execution_count": null,
   "id": "754a87ca-a057-4670-9f00-ee0f353c899e",
   "metadata": {},
   "outputs": [],
   "source": []
  }
 ],
 "metadata": {
  "kernelspec": {
   "display_name": "Python 3 (ipykernel)",
   "language": "python",
   "name": "python3"
  },
  "language_info": {
   "codemirror_mode": {
    "name": "ipython",
    "version": 3
   },
   "file_extension": ".py",
   "mimetype": "text/x-python",
   "name": "python",
   "nbconvert_exporter": "python",
   "pygments_lexer": "ipython3",
   "version": "3.9.12"
  }
 },
 "nbformat": 4,
 "nbformat_minor": 5
}
